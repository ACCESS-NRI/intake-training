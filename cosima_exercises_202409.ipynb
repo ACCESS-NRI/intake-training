{
 "cells": [
  {
   "cell_type": "markdown",
   "id": "cff9cd16-1b37-4063-ae2d-d060fb2f8fc5",
   "metadata": {
    "tags": []
   },
   "source": [
    "# Introduction to the ACCESS-NRI Intake catalog\n",
    "\n",
    "**Aims**: This tutorial will introduce the ACCESS-NRI Intake catalog and show you how to use it to find and load model data for analysis\n",
    "\n",
    "**Project membership requirements**:\n",
    "\n",
    " - If using the `xp65` conda environment: `xp65`, `dk92`, `fs38`, `p73`, `ik11` and `oi10`\n",
    " - If using the `hh5` conda environment: as above but also `hh5`\n",
    "\n",
    "\n",
    "The ACCESS-NRI Intake Catalog is curated by ACCESS-NRI with further information on its <a href=\"https://access-nri-intake-catalog.readthedocs.io/en/latest/index.html\" target=\"_blank\">documentation website</a> and <a href=\"https://access-hive.org.au/model_evaluation/data/model_catalogs/\" target=\"_blank\">this ACCESS-Hive page</a>.\n",
    "\n",
    "----"
   ]
  },
  {
   "cell_type": "markdown",
   "id": "247ef5ad-ee29-48b7-90de-c896fa472e26",
   "metadata": {},
   "source": [
    "# Exercise 1"
   ]
  },
  {
   "cell_type": "code",
   "execution_count": null,
   "id": "f160e584-d08b-4f09-9533-2faed02d355e",
   "metadata": {},
   "outputs": [],
   "source": [
    "import intake"
   ]
  },
  {
   "cell_type": "code",
   "execution_count": null,
   "id": "79046e7a-4941-4e36-811d-4eaec8d2832b",
   "metadata": {},
   "outputs": [],
   "source": [
    "catalog = intake.cat.access_nri"
   ]
  },
  {
   "cell_type": "markdown",
   "id": "f9e1607c-4101-4ccb-a877-dbfc366b9c4e",
   "metadata": {},
   "source": [
    "View the catalog"
   ]
  },
  {
   "cell_type": "code",
   "execution_count": null,
   "id": "f0ace4dc-7631-447c-b7fb-cf7e3c69854a",
   "metadata": {},
   "outputs": [],
   "source": [
    "catalog"
   ]
  },
  {
   "cell_type": "markdown",
   "id": "ed86d2e2-07ef-4fde-aae3-8f0d689ba6ac",
   "metadata": {},
   "source": [
    "Search the catalog by any of its columns, e.g.\n",
    "\n",
    "```python\n",
    "catalog.search(model='ACCESS-OM2')\n",
    "catalog.search(model=..., frequency=..., variable=...)\n",
    "```"
   ]
  },
  {
   "cell_type": "code",
   "execution_count": null,
   "id": "02a535ad-3452-440b-9bd6-6d2e1d8dea5b",
   "metadata": {},
   "outputs": [],
   "source": []
  },
  {
   "cell_type": "markdown",
   "id": "2464098e-2b98-425f-a72b-3ecf903a0525",
   "metadata": {},
   "source": [
    "Select a single datastore using it's <b>name</b>, e.g.\n",
    "\n",
    "```python\n",
    "datastore = catalog['01deg_jra...']\n",
    "```\n",
    "\n",
    "If your search returns a single experiment:\n",
    "\n",
    "```python\n",
    "datastore = catalog.search(name=...).to_source()\n",
    "```\n"
   ]
  },
  {
   "cell_type": "code",
   "execution_count": null,
   "id": "b1809c30-dd3b-4e6b-aa3e-9e503bf0eff3",
   "metadata": {},
   "outputs": [],
   "source": []
  },
  {
   "cell_type": "markdown",
   "id": "623d57cb-e0ce-4094-95e9-4193e87846be",
   "metadata": {},
   "source": [
    "View the datastore\n",
    "\n",
    "```python\n",
    "datastore\n",
    "```\n",
    "and\n",
    "\n",
    "```python\n",
    "datastore.df\n",
    "```"
   ]
  },
  {
   "cell_type": "code",
   "execution_count": null,
   "id": "1f45db77-89a5-4931-9d5c-522436776fd5",
   "metadata": {},
   "outputs": [],
   "source": []
  },
  {
   "cell_type": "markdown",
   "id": "c746f12d-0937-492b-b4ad-bce32de326b2",
   "metadata": {},
   "source": [
    "Find a variable\n",
    "\n",
    "```python\n",
    "datastore.search(variable=..., frequency=...)\n",
    "```\n",
    "search by the columns in the datastore.\n",
    "\n",
    "Refine your search to reach <b>1 dataset</b>, using `.keys()` and `.keys_info()` to assist"
   ]
  },
  {
   "cell_type": "code",
   "execution_count": null,
   "id": "d29c8db8-7769-4a2a-b463-38b3491fcd5f",
   "metadata": {},
   "outputs": [],
   "source": []
  },
  {
   "cell_type": "markdown",
   "id": "194a383c-4a99-4868-9772-99030a622de0",
   "metadata": {},
   "source": [
    "# Exercise 2"
   ]
  },
  {
   "cell_type": "markdown",
   "id": "4ea540b6-8dd5-41f4-a9bf-cb90beca4d84",
   "metadata": {},
   "source": [
    "Save your search returning one dataset\n",
    "\n",
    "```python\n",
    "search=datastore.search(...)\n",
    "```\n",
    "\n",
    "(If you need to catch up, you could use:\n",
    "```python\n",
    "search = catalog.search(name='025deg_jra55_iaf_omip2_cycle6', variable = 'sst', frequency='1mon')\n",
    "```\n",
    ")"
   ]
  },
  {
   "cell_type": "code",
   "execution_count": null,
   "id": "d278885f-4c57-42c6-8877-b8fa1c4cd843",
   "metadata": {},
   "outputs": [],
   "source": []
  },
  {
   "cell_type": "markdown",
   "id": "cbe0c0e6-28de-467b-b16a-26d3928b1fab",
   "metadata": {},
   "source": [
    "Start a dask cluster"
   ]
  },
  {
   "cell_type": "code",
   "execution_count": null,
   "id": "e8629dec-7efa-416e-a128-e7c50f4f509f",
   "metadata": {},
   "outputs": [],
   "source": [
    "from dask.distributed import Client"
   ]
  },
  {
   "cell_type": "code",
   "execution_count": null,
   "id": "86294d10-690c-4453-82a0-7a8c2be5876b",
   "metadata": {},
   "outputs": [],
   "source": [
    "client = Client(threads_per_worker=1)"
   ]
  },
  {
   "cell_type": "code",
   "execution_count": null,
   "id": "2e0fbba0-57b0-43e7-ba6c-750768a3e58f",
   "metadata": {},
   "outputs": [],
   "source": [
    "client"
   ]
  },
  {
   "cell_type": "markdown",
   "id": "f31d6329-b103-45c3-8541-89901d35fece",
   "metadata": {},
   "source": [
    "Open your dataset\n",
    "\n",
    "```python\n",
    "ds = search.to_dask()\n",
    "```\n",
    "\n",
    "and check `ds` contains the variable you expect"
   ]
  },
  {
   "cell_type": "code",
   "execution_count": null,
   "id": "ea81c126-d51a-40a2-965e-11609964d9f4",
   "metadata": {},
   "outputs": [],
   "source": []
  },
  {
   "cell_type": "code",
   "execution_count": null,
   "id": "cdd8406d-6fd9-487e-b422-990e20e87c48",
   "metadata": {},
   "outputs": [],
   "source": []
  },
  {
   "cell_type": "markdown",
   "id": "36e6c241-d292-4d51-a04e-0aab9c4b6919",
   "metadata": {},
   "source": [
    "Try a search which returns more than one variable:\n",
    "``` python\n",
    "search = catalog['01deg_jra55v140_iaf'].search(variable=['temp_surface_ave', 'salt_surface_ave'])\n",
    "search\n",
    "```"
   ]
  },
  {
   "cell_type": "code",
   "execution_count": null,
   "id": "d88769c2-dbb2-4a4e-a677-803530cbec2e",
   "metadata": {},
   "outputs": [],
   "source": []
  },
  {
   "cell_type": "markdown",
   "id": "5418db3f-cdd4-4395-87a4-c5898bfbfdc6",
   "metadata": {},
   "source": [
    "Can we open that with `to_dask()` ?"
   ]
  },
  {
   "cell_type": "code",
   "execution_count": null,
   "id": "522b83b3-10c6-4af1-8c18-475835feed18",
   "metadata": {},
   "outputs": [],
   "source": []
  },
  {
   "cell_type": "markdown",
   "id": "eb844c13-771c-40f3-9cbe-81c7730216c5",
   "metadata": {},
   "source": [
    "Repeat for \n",
    "\n",
    "```python\n",
    "search = catalog['01deg_jra55v140_iaf'].search(variable=['surface_salt', 'surface_temp'], frequency='1mon')\n",
    "search\n",
    "```\n",
    "\n",
    "Use `search.keys()` and `search.keys_info()` if needed"
   ]
  },
  {
   "cell_type": "code",
   "execution_count": null,
   "id": "520caa67-f38d-4970-9bc2-8a890c22a92c",
   "metadata": {},
   "outputs": [],
   "source": []
  },
  {
   "cell_type": "markdown",
   "id": "561f333d-2ed8-4b5f-bdde-dc37478eb06a",
   "metadata": {},
   "source": [
    "For the second search, we can combine after opening:\n",
    "\n",
    "\n",
    "``` python\n",
    "import xarray as xr\n",
    "search = catalog['01deg_jra55v140_iaf'].search(variable=['surface_salt', 'surface_temp'], frequency='1mon')\n",
    "ds_dict = search.to_dataset_dict()\n",
    "ds_dict\n",
    "ds = xr.merge(\n",
    "    ds_dict.values(), \n",
    ")\n",
    "```"
   ]
  },
  {
   "cell_type": "code",
   "execution_count": null,
   "id": "40f773f1-aa4d-46d5-8958-0bf3a0935be5",
   "metadata": {},
   "outputs": [],
   "source": []
  },
  {
   "cell_type": "code",
   "execution_count": null,
   "id": "4dc2095c-265d-4d7f-adb3-c5ca9018314d",
   "metadata": {},
   "outputs": [],
   "source": []
  },
  {
   "cell_type": "code",
   "execution_count": null,
   "id": "516512c5-5435-48bf-b027-6bb942fc387a",
   "metadata": {},
   "outputs": [],
   "source": []
  },
  {
   "attachments": {},
   "cell_type": "markdown",
   "id": "e78f7153-731f-4265-9082-33811f795492",
   "metadata": {
    "execution": {
     "iopub.execute_input": "2024-09-16T23:52:47.698384Z",
     "iopub.status.busy": "2024-09-16T23:52:47.697399Z",
     "iopub.status.idle": "2024-09-16T23:52:47.728984Z",
     "shell.execute_reply": "2024-09-16T23:52:47.728041Z",
     "shell.execute_reply.started": "2024-09-16T23:52:47.698333Z"
    }
   },
   "source": [
    "Try a search with more than one experiment\n",
    "```python\n",
    "search = catalog.search(name='01deg_jra55v140_iaf_cycle4.*')\n",
    "search\n",
    "```"
   ]
  },
  {
   "cell_type": "code",
   "execution_count": null,
   "id": "931a82e5-f06a-408e-aaac-ae9d8dc0cd91",
   "metadata": {},
   "outputs": [],
   "source": []
  },
  {
   "attachments": {},
   "cell_type": "markdown",
   "id": "31166a8d-1625-456b-8dbe-06cd6aba5e29",
   "metadata": {},
   "source": [
    "With more than one experiment, we need to use `.to_source_dict()`\n",
    "```python\n",
    "datastore_dict = catalog.search(name='01deg_jra55v140_iaf_cycle4.*').to_source_dict()"
   ]
  },
  {
   "cell_type": "code",
   "execution_count": null,
   "id": "04c63a1a-6752-440f-aae1-2b5b78fde20b",
   "metadata": {},
   "outputs": [],
   "source": []
  },
  {
   "cell_type": "markdown",
   "id": "33713458-6786-415a-8137-357d2db813ef",
   "metadata": {},
   "source": [
    "This returns a dictionary or intake-esm datastores, we can open them in a loop:\n",
    "\n",
    "```python\n",
    "\n",
    "dataset_dict = {\n",
    "    name: datastore.search(variable=\"temp_surface_ave\").to_dask()\n",
    "    for name, datastore in datastore_dict.items()\n",
    "}\n",
    "```"
   ]
  },
  {
   "cell_type": "code",
   "execution_count": null,
   "id": "4d300a47-f97b-41e9-889a-8a6cdb164df7",
   "metadata": {},
   "outputs": [],
   "source": []
  },
  {
   "cell_type": "markdown",
   "id": "b902a9d1-c694-4cb7-9a89-5ae1fbc28f9f",
   "metadata": {},
   "source": [
    "We could just merge them:\n",
    "\n",
    "```python\n",
    "ds = xr.merge(\n",
    "    dataset_dict.values(),\n",
    ")\n",
    "```\n",
    "\n",
    "but it's slow due to the number of file operations incurred. One of the issues is that by default, this opens each chunk in the source files individually. Instead try this with the chunks argument:\n",
    "\n",
    "```python\n",
    "dataset_dict = {\n",
    "    name: datastore.search(variable=\"temp_surface_ave\").to_dask(\n",
    "        xarray_open_kwargs={'chunks':{'time':-1}}\n",
    "    )\n",
    "    for name, datastore in datastore_dict.items()\n",
    "}\n",
    "\n",
    "ds = xr.merge(dataset_dict.values())\n",
    "```\n",
    "\n",
    "This method, means that the chunks from each netcdf file are all loaded together. Inspect the resulting dataset, what are the chunksizes? What defines the chunksizes now?"
   ]
  },
  {
   "cell_type": "code",
   "execution_count": null,
   "id": "134a3be9-b314-473d-a9a6-2e5b28ed41aa",
   "metadata": {},
   "outputs": [],
   "source": []
  },
  {
   "cell_type": "code",
   "execution_count": null,
   "id": "dd77fecf-57a6-44d3-94f2-a01443da88ae",
   "metadata": {},
   "outputs": [],
   "source": []
  },
  {
   "cell_type": "markdown",
   "id": "5d314cb0-4dc8-47b3-8cdd-6133c98ee260",
   "metadata": {},
   "source": [
    "Search for some high resolution daily data, e.g.\n",
    "\n",
    "```python\n",
    "search = catalog['01deg_jra55v140_iaf'].search(variable='temp_surface_ave')\n",
    "```\n",
    "\n",
    "or \n",
    "\n",
    "```python\n",
    "search = catalog['01deg_jra55v140_iaf'].search(variable='surface_temp', frequency='1day')\n",
    "```"
   ]
  },
  {
   "cell_type": "code",
   "execution_count": null,
   "id": "afbf49a4-3950-43f4-b3e5-27921ac4b74f",
   "metadata": {},
   "outputs": [],
   "source": []
  },
  {
   "cell_type": "markdown",
   "id": "3c3cd969-be71-4e03-96e8-7db2bbc1acde",
   "metadata": {},
   "source": [
    "Run `search.to_dask()` on your search, and inspect the resulting variable. How many chunks are there, and how big are they ? Can you reduce the number of chunks using `search.to_dask(xarray_open_kwargs={'chunks':{...}}`"
   ]
  },
  {
   "cell_type": "code",
   "execution_count": null,
   "id": "257ed1d3-6506-4035-a52c-2c78c5050cea",
   "metadata": {},
   "outputs": [],
   "source": []
  },
  {
   "cell_type": "code",
   "execution_count": null,
   "id": "0cc509b1-38c0-4a87-a46e-dc4567508bdd",
   "metadata": {},
   "outputs": [],
   "source": []
  },
  {
   "cell_type": "code",
   "execution_count": null,
   "id": "b07db987-08e4-4288-b7e2-3b05eeb73301",
   "metadata": {},
   "outputs": [],
   "source": []
  },
  {
   "cell_type": "code",
   "execution_count": null,
   "id": "1a701c6f-8751-48c6-b5c3-7919d4f369f2",
   "metadata": {},
   "outputs": [],
   "source": [
    "client.close()"
   ]
  },
  {
   "cell_type": "code",
   "execution_count": null,
   "id": "18988335-8d2e-4513-9f7e-9b4355483597",
   "metadata": {},
   "outputs": [],
   "source": []
  }
 ],
 "metadata": {
  "kernelspec": {
   "display_name": "Python [conda env:analysis3-24.04] *",
   "language": "python",
   "name": "conda-env-analysis3-24.04-py"
  },
  "language_info": {
   "codemirror_mode": {
    "name": "ipython",
    "version": 3
   },
   "file_extension": ".py",
   "mimetype": "text/x-python",
   "name": "python",
   "nbconvert_exporter": "python",
   "pygments_lexer": "ipython3",
   "version": "3.10.14"
  }
 },
 "nbformat": 4,
 "nbformat_minor": 5
}
